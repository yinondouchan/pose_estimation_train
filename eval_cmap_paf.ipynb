{
 "cells": [
  {
   "cell_type": "code",
   "execution_count": 1,
   "metadata": {},
   "outputs": [],
   "source": [
    "%load_ext autoreload\n",
    "%autoreload 2"
   ]
  },
  {
   "cell_type": "code",
   "execution_count": null,
   "metadata": {
    "colab": {
     "base_uri": "https://localhost:8080/",
     "height": 127
    },
    "colab_type": "code",
    "executionInfo": {
     "elapsed": 39748,
     "status": "ok",
     "timestamp": 1579205087838,
     "user": {
      "displayName": "Yinon Douchan",
      "photoUrl": "",
      "userId": "12948713182025833561"
     },
     "user_tz": -120
    },
    "id": "g_l-PayNAHsn",
    "outputId": "2f0464bd-add4-46cc-8e6e-36a636ca1d4a"
   },
   "outputs": [],
   "source": [
    "from google.colab import drive\n",
    "drive.mount('/content/drive')"
   ]
  },
  {
   "cell_type": "code",
   "execution_count": null,
   "metadata": {
    "colab": {},
    "colab_type": "code",
    "id": "Tl0-1mWcm6k5"
   },
   "outputs": [],
   "source": [
    "\n",
    "import os\n",
    "os.chdir('drive/My Drive/colab_notebooks/pose_estimation')"
   ]
  },
  {
   "cell_type": "code",
   "execution_count": null,
   "metadata": {
    "colab": {
     "base_uri": "https://localhost:8080/",
     "height": 323
    },
    "colab_type": "code",
    "executionInfo": {
     "elapsed": 43148,
     "status": "ok",
     "timestamp": 1579205091284,
     "user": {
      "displayName": "Yinon Douchan",
      "photoUrl": "",
      "userId": "12948713182025833561"
     },
     "user_tz": -120
    },
    "id": "EbHLjEPygtoj",
    "outputId": "10dc2b6a-376d-4a1b-f0e1-0d3d195582d2"
   },
   "outputs": [],
   "source": [
    "!nvidia-smi"
   ]
  },
  {
   "cell_type": "markdown",
   "metadata": {
    "colab_type": "text",
    "id": "zkHRtQpQgifZ"
   },
   "source": [
    "## Imports"
   ]
  },
  {
   "cell_type": "code",
   "execution_count": 2,
   "metadata": {
    "colab": {},
    "colab_type": "code",
    "id": "y4I6Ea1agj6d"
   },
   "outputs": [],
   "source": [
    "import json\n",
    "import requests\n",
    "import zipfile\n",
    "import torch\n",
    "import os\n",
    "import numpy as np\n",
    "from torch.utils import data\n",
    "from torchvision import transforms\n",
    "from PIL import Image\n",
    "from io import BytesIO\n",
    "from collections import OrderedDict\n",
    "from generate_cmap_paf import generate_cmap, generate_paf, generate_topology_independent_paf, annotations_to_connections, annotations_to_peaks\n",
    "from pose_datasets import BodyAndFeetConfig"
   ]
  },
  {
   "cell_type": "code",
   "execution_count": 3,
   "metadata": {
    "colab": {},
    "colab_type": "code",
    "id": "h9j3ArEhhefe"
   },
   "outputs": [],
   "source": [
    "def generate_cmap_pinpoint(counts: torch.Tensor, peaks: torch.Tensor, height, width, amplify_output=False):\n",
    "    C = peaks.size(0)  # number of part types\n",
    "    M = peaks.size(1)  # max number of parts per type\n",
    "    H = height\n",
    "    W = width\n",
    "\n",
    "    cmap = torch.zeros(C, H, W)\n",
    "\n",
    "    for c in range(C):\n",
    "\n",
    "        count = int(counts[c])\n",
    "        for p in range(count):\n",
    "            i_pos = float(peaks[c][p][0] * H)\n",
    "            j_pos = float(peaks[c][p][1] * W)\n",
    "\n",
    "            # find point's central location\n",
    "            i_center = int(np.round(i_pos))\n",
    "            j_center = int(np.round(j_pos))\n",
    "\n",
    "            i_pos_rel = i_pos - i_center\n",
    "            j_pos_rel = j_pos - j_center\n",
    "\n",
    "            # add x and y components\n",
    "            left_x = 0.5 - j_pos_rel\n",
    "            right_x = 0.5 + j_pos_rel\n",
    "            top_y = 0.5 - i_pos_rel\n",
    "            bottom_y = 0.5 + i_pos_rel\n",
    "\n",
    "            max_val = 0\n",
    "\n",
    "            if check_bounds(j_center - 1, i_center - 1, H, W):\n",
    "                cmap[c, i_center - 1, j_center - 1] = top_y * left_x\n",
    "                max_val = max(max_val, top_y * left_x)\n",
    "            if check_bounds(j_center - 1, i_center, H, W):\n",
    "                cmap[c, i_center, j_center - 1] = bottom_y * left_x\n",
    "                max_val = max(max_val, bottom_y * left_x)\n",
    "            if check_bounds(j_center, i_center, H, W):\n",
    "                cmap[c, i_center, j_center] = bottom_y * right_x\n",
    "                max_val = max(max_val, bottom_y * right_x)\n",
    "            if check_bounds(j_center, i_center - 1, H, W):\n",
    "                cmap[c, i_center - 1, j_center] = top_y * right_x\n",
    "                max_val = max(max_val, top_y * right_x)\n",
    "\n",
    "            if amplify_output:\n",
    "                # make max value to be 1\n",
    "                if check_bounds(j_center - 1, i_center - 1, H, W):\n",
    "                    cmap[c, i_center - 1, j_center - 1] /= max_val if max_val != 0 else 0\n",
    "                if check_bounds(j_center - 1, i_center, H, W):\n",
    "                    cmap[c, i_center, j_center - 1] /= max_val if max_val != 0 else 0\n",
    "                if check_bounds(j_center, i_center, H, W):\n",
    "                    cmap[c, i_center, j_center] /= max_val if max_val != 0 else 0\n",
    "                if check_bounds(j_center, i_center - 1, H, W):\n",
    "                    cmap[c, i_center - 1, j_center] /= max_val if max_val != 0 else 0\n",
    "\n",
    "    return cmap\n",
    "\n",
    "def check_bounds(x, y, H, W):\n",
    "    return x < W and x >= 0 and y < H and y >= 0"
   ]
  },
  {
   "cell_type": "code",
   "execution_count": 48,
   "metadata": {
    "colab": {
     "base_uri": "https://localhost:8080/",
     "height": 301
    },
    "colab_type": "code",
    "executionInfo": {
     "elapsed": 821,
     "status": "ok",
     "timestamp": 1579206712035,
     "user": {
      "displayName": "Yinon Douchan",
      "photoUrl": "",
      "userId": "12948713182025833561"
     },
     "user_tz": -120
    },
    "id": "PIEtew_nFp7v",
    "outputId": "3f173232-4464-4f22-c9ad-4a15807ff725"
   },
   "outputs": [
    {
     "name": "stdout",
     "output_type": "stream",
     "text": [
      "tensor(0.3852)\n",
      "tensor(0.3182)\n"
     ]
    },
    {
     "data": {
      "image/png": "[encoded data removed]",
      "text/plain": [
       "<Figure size 432x288 with 1 Axes>"
      ]
     },
     "metadata": {
      "needs_background": "light"
     },
     "output_type": "display_data"
    }
   ],
   "source": [
    "import matplotlib.pyplot as plt\n",
    "\n",
    "out_size = 56\n",
    "\n",
    "config = BodyAndFeetConfig(out_size, out_size)\n",
    "\n",
    "peaks = torch.zeros(config.num_parts, 100, 2)\n",
    "counts = torch.ones(config.num_parts)\n",
    "\n",
    "for i in range(config.num_parts):\n",
    "    peaks[i][0][0] = np.random.rand()\n",
    "    peaks[i][0][1] = np.random.rand()\n",
    "\n",
    "stdev = 1\n",
    "window = 5 * stdev\n",
    "cmap = generate_cmap_pinpoint(counts, peaks, out_size, out_size, amplify_output=True)\n",
    "\n",
    "connections = torch.zeros(config.num_links, 2, 100) - 1\n",
    "\n",
    "for i in range(config.num_links):\n",
    "    connections[i][0][0] = 0\n",
    "    connections[i][1][0] = 0\n",
    "\n",
    "paf = generate_topology_independent_paf(connections, config.topology, counts, peaks, 56, 56, stdev)\n",
    "\n",
    "yy, xx = torch.meshgrid(torch.arange(out_size), torch.arange(out_size))\n",
    "yy = yy + 0.5\n",
    "xx = xx + 0.5\n",
    "print(torch.sum(xx * cmap[0]) / torch.sum(cmap[0]) / out_size)\n",
    "print(torch.sum(yy * cmap[0]) / torch.sum(cmap[0]) / out_size)\n",
    "\n",
    "plt.imshow(paf[0], vmin=0, vmax=1)\n",
    "plt.show()"
   ]
  },
  {
   "cell_type": "code",
   "execution_count": null,
   "metadata": {},
   "outputs": [],
   "source": []
  }
 ],
 "metadata": {
  "accelerator": "GPU",
  "colab": {
   "collapsed_sections": [],
   "name": "eval_cmap_paf.ipynb",
   "provenance": []
  },
  "kernelspec": {
   "display_name": "Python 3",
   "language": "python",
   "name": "python3"
  },
  "language_info": {
   "codemirror_mode": {
    "name": "ipython",
    "version": 3
   },
   "file_extension": ".py",
   "mimetype": "text/x-python",
   "name": "python",
   "nbconvert_exporter": "python",
   "pygments_lexer": "ipython3",
   "version": "3.5.2"
  }
 },
 "nbformat": 4,
 "nbformat_minor": 1
}
